{
 "cells": [
  {
   "cell_type": "code",
   "execution_count": null,
   "id": "0c8de2d0",
   "metadata": {},
   "outputs": [],
   "source": [
    "pip install uuid"
   ]
  },
  {
   "cell_type": "code",
   "execution_count": 2,
   "id": "bc304e6e",
   "metadata": {},
   "outputs": [],
   "source": [
    "import cv2\n",
    "import os\n",
    "import time\n",
    "import uuid\n",
    "from cvzone.HandTrackingModule import HandDetector\n",
    "Handmodel = HandDetector(maxHands=1)\n",
    "cap = cv2.VideoCapture(0)\n",
    "def ec2():\n",
    "    os.system(\"aws ec2 run-instances --image-id ami-057752b3f1d6c4d6c --instance-type t2.micro\")\n",
    "    os.system(\"start msedge https://ap-south-1.console.aws.amazon.com/ec2/home?region=ap-south-1#Instances:\")\n",
    "    time.sleep(3)\n",
    "def s3(UUID):\n",
    "    x = str(UUID)\n",
    "    os.system(f\"aws s3 mb s3://mybucket123{x} --region ap-south-1\")\n",
    "    os.system(\"start msedge https://s3.console.aws.amazon.com/s3/home?region=ap-south-1\")\n",
    "    time.sleep(3)\n",
    "\n",
    "while True:\n",
    "    UUID  = uuid.uuid1().int\n",
    "    status, photo = cap.read()\n",
    "    hand,image = Handmodel.findHands(photo)\n",
    "    cv2.imshow(\"myphoto\", image)\n",
    "    if hand:\n",
    "        fingers = Handmodel.fingersUp(hand[0])\n",
    "        if fingers == [1,0,0,0,0]:\n",
    "            ec2()\n",
    "        if fingers == [0,1,0,0,0]:\n",
    "            s3(UUID)\n",
    "        if fingers == [1,1,0,0,1]:\n",
    "            os.system(\"start msedge https://chat.openai.com/\")\n",
    "            time.sleep(3)\n",
    "        if fingers == [0,1,1,0,0]:\n",
    "            os.system(\"start msedge www.google.com\")\n",
    "            time.sleep(3)\n",
    "        if fingers == [0,0,0,0,1]:\n",
    "            break\n",
    "    if cv2.waitKey(1) == 13:\n",
    "         break\n",
    "cv2.destroyAllWindows()\n",
    "cap.release()"
   ]
  },
  {
   "cell_type": "code",
   "execution_count": null,
   "id": "65c55a2a",
   "metadata": {},
   "outputs": [],
   "source": []
  }
 ],
 "metadata": {
  "kernelspec": {
   "display_name": "Python 3 (ipykernel)",
   "language": "python",
   "name": "python3"
  },
  "language_info": {
   "codemirror_mode": {
    "name": "ipython",
    "version": 3
   },
   "file_extension": ".py",
   "mimetype": "text/x-python",
   "name": "python",
   "nbconvert_exporter": "python",
   "pygments_lexer": "ipython3",
   "version": "3.9.13"
  }
 },
 "nbformat": 4,
 "nbformat_minor": 5
}
